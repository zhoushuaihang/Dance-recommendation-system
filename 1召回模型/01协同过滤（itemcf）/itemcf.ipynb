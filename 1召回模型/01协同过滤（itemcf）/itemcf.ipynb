{
 "cells": [
  {
   "cell_type": "code",
   "execution_count": 1,
   "id": "44123c8b",
   "metadata": {},
   "outputs": [],
   "source": [
    "# import packages\n",
    "import time, math, os\n",
    "from tqdm import tqdm\n",
    "import gc\n",
    "import pickle\n",
    "import random\n",
    "from datetime import datetime\n",
    "from operator import itemgetter\n",
    "import numpy as np\n",
    "import pandas as pd\n",
    "import warnings\n",
    "from collections import defaultdict\n",
    "import collections\n",
    "warnings.filterwarnings('ignore')"
   ]
  },
  {
   "cell_type": "code",
   "execution_count": 2,
   "id": "fd601ad7",
   "metadata": {},
   "outputs": [],
   "source": [
    "def get_all_click_data(data_path='./', offline=True):\n",
    " \n",
    "    all_click = pd.read_csv(data_path + 'action.csv')\n",
    "   \n",
    "    all_click = all_click.drop_duplicates((['user_id', 'dance_id', 'lable']))\n",
    "    return all_click"
   ]
  },
  {
   "cell_type": "code",
   "execution_count": 3,
   "id": "3fc155cf",
   "metadata": {},
   "outputs": [
    {
     "data": {
      "text/html": [
       "<div>\n",
       "<style scoped>\n",
       "    .dataframe tbody tr th:only-of-type {\n",
       "        vertical-align: middle;\n",
       "    }\n",
       "\n",
       "    .dataframe tbody tr th {\n",
       "        vertical-align: top;\n",
       "    }\n",
       "\n",
       "    .dataframe thead th {\n",
       "        text-align: right;\n",
       "    }\n",
       "</style>\n",
       "<table border=\"1\" class=\"dataframe\">\n",
       "  <thead>\n",
       "    <tr style=\"text-align: right;\">\n",
       "      <th></th>\n",
       "      <th>Unnamed: 0</th>\n",
       "      <th>dance_id</th>\n",
       "      <th>user_id</th>\n",
       "      <th>lable</th>\n",
       "    </tr>\n",
       "  </thead>\n",
       "  <tbody>\n",
       "    <tr>\n",
       "      <th>0</th>\n",
       "      <td>0</td>\n",
       "      <td>207000097</td>\n",
       "      <td>24696418</td>\n",
       "      <td>1.000</td>\n",
       "    </tr>\n",
       "    <tr>\n",
       "      <th>1</th>\n",
       "      <td>1</td>\n",
       "      <td>207000097</td>\n",
       "      <td>32507861</td>\n",
       "      <td>1.000</td>\n",
       "    </tr>\n",
       "    <tr>\n",
       "      <th>2</th>\n",
       "      <td>2</td>\n",
       "      <td>207000097</td>\n",
       "      <td>39060478</td>\n",
       "      <td>1.000</td>\n",
       "    </tr>\n",
       "    <tr>\n",
       "      <th>3</th>\n",
       "      <td>3</td>\n",
       "      <td>207000097</td>\n",
       "      <td>85909646</td>\n",
       "      <td>1.000</td>\n",
       "    </tr>\n",
       "    <tr>\n",
       "      <th>4</th>\n",
       "      <td>4</td>\n",
       "      <td>207000097</td>\n",
       "      <td>172874760</td>\n",
       "      <td>1.000</td>\n",
       "    </tr>\n",
       "    <tr>\n",
       "      <th>...</th>\n",
       "      <td>...</td>\n",
       "      <td>...</td>\n",
       "      <td>...</td>\n",
       "      <td>...</td>\n",
       "    </tr>\n",
       "    <tr>\n",
       "      <th>845547</th>\n",
       "      <td>845564</td>\n",
       "      <td>294218316</td>\n",
       "      <td>99992300</td>\n",
       "      <td>0.830</td>\n",
       "    </tr>\n",
       "    <tr>\n",
       "      <th>845548</th>\n",
       "      <td>845565</td>\n",
       "      <td>717648043</td>\n",
       "      <td>99993075</td>\n",
       "      <td>0.828</td>\n",
       "    </tr>\n",
       "    <tr>\n",
       "      <th>845549</th>\n",
       "      <td>845566</td>\n",
       "      <td>849276941</td>\n",
       "      <td>99996967</td>\n",
       "      <td>0.817</td>\n",
       "    </tr>\n",
       "    <tr>\n",
       "      <th>845550</th>\n",
       "      <td>845567</td>\n",
       "      <td>295113421</td>\n",
       "      <td>99997083</td>\n",
       "      <td>0.703</td>\n",
       "    </tr>\n",
       "    <tr>\n",
       "      <th>845551</th>\n",
       "      <td>845568</td>\n",
       "      <td>889560985</td>\n",
       "      <td>99997486</td>\n",
       "      <td>0.957</td>\n",
       "    </tr>\n",
       "  </tbody>\n",
       "</table>\n",
       "<p>845552 rows × 4 columns</p>\n",
       "</div>"
      ],
      "text/plain": [
       "        Unnamed: 0   dance_id    user_id  lable\n",
       "0                0  207000097   24696418  1.000\n",
       "1                1  207000097   32507861  1.000\n",
       "2                2  207000097   39060478  1.000\n",
       "3                3  207000097   85909646  1.000\n",
       "4                4  207000097  172874760  1.000\n",
       "...            ...        ...        ...    ...\n",
       "845547      845564  294218316   99992300  0.830\n",
       "845548      845565  717648043   99993075  0.828\n",
       "845549      845566  849276941   99996967  0.817\n",
       "845550      845567  295113421   99997083  0.703\n",
       "845551      845568  889560985   99997486  0.957\n",
       "\n",
       "[845552 rows x 4 columns]"
      ]
     },
     "execution_count": 3,
     "metadata": {},
     "output_type": "execute_result"
    }
   ],
   "source": [
    "data=get_all_click_data()\n",
    "data"
   ]
  },
  {
   "cell_type": "code",
   "execution_count": 5,
   "id": "8bf5fd86",
   "metadata": {},
   "outputs": [],
   "source": [
    "# 获取用户的点击舞蹈  \n",
    "# 格式：{user1: [(item1, lable), (item2,lable)..]...}\n",
    "def get_user_item_time_data(click_df):\n",
    "    def make_item_time_pair(df):\n",
    "        return list(zip(df['dance_id'], df['lable']))\n",
    "    # 按用户分组\n",
    "    user_item_time_df = click_df.groupby('user_id')['dance_id', 'lable'].apply(lambda x: make_item_time_pair(x)).reset_index().rename(columns={0: 'item_time_list'})\n",
    "    # 构建数据字典\n",
    "    user_item_time_dict = dict(zip(user_item_time_df['user_id'], user_item_time_df['item_time_list']))\n",
    "    return user_item_time_dict"
   ]
  },
  {
   "cell_type": "code",
   "execution_count": 6,
   "id": "1e7ec13a",
   "metadata": {},
   "outputs": [],
   "source": [
    "#热门舞蹈视频\n",
    "# 获取点击最多的舞蹈视频\n",
    "def get_topk_item(click_df, k):\n",
    "    topk_click = click_df['dance_id'].value_counts().index[:k]\n",
    "    return topk_click"
   ]
  },
  {
   "cell_type": "code",
   "execution_count": 7,
   "id": "b614090e",
   "metadata": {},
   "outputs": [],
   "source": [
    "topd=get_topk_item(data, 30)"
   ]
  },
  {
   "cell_type": "code",
   "execution_count": 8,
   "id": "90a0146a",
   "metadata": {
    "scrolled": true
   },
   "outputs": [
    {
     "data": {
      "text/plain": [
       "Int64Index([504840051, 548500449, 676673014, 379536282, 850118371, 421575207,\n",
       "            933076405, 720628602, 932346746, 806924735, 718644535, 677104627,\n",
       "            720855610, 975641872, 547952243, 974831847, 337402390, 378365197,\n",
       "            933580136, 462071916, 250508491, 590387741, 762172963, 420609102,\n",
       "            975463977, 632239402, 722762762, 207776215, 975620441, 420017732],\n",
       "           dtype='int64')"
      ]
     },
     "execution_count": 8,
     "metadata": {},
     "output_type": "execute_result"
    }
   ],
   "source": [
    "topd"
   ]
  },
  {
   "cell_type": "code",
   "execution_count": 8,
   "id": "72ae737d",
   "metadata": {},
   "outputs": [],
   "source": [
    "# 协同过滤(基于物品)\n",
    "# 基于物品的协同过滤itemcf的物品相似度计算"
   ]
  },
  {
   "cell_type": "code",
   "execution_count": 9,
   "id": "3e86693c",
   "metadata": {},
   "outputs": [],
   "source": [
    "save_path='temp/'"
   ]
  },
  {
   "cell_type": "code",
   "execution_count": 10,
   "id": "bd44274a",
   "metadata": {},
   "outputs": [],
   "source": [
    "def cal_itemcf_sim(df):\n",
    "    \"\"\"\n",
    "        基于物品的协同过滤，视频与视频之间的相似性矩阵计算，参数与返回值如下\n",
    "        df: 数据表\n",
    "        item_created_time_dict:  视频创建时间的字典\n",
    "        return : 视频与视频的相似性矩阵\n",
    "    \"\"\"\n",
    "    # 获取 用户，舞蹈，点击时间 数据组\n",
    "    user_item_time_dict = get_user_item_time_data(df)\n",
    "    \n",
    "    # 计算物品相似度\n",
    "    i2i_sim = {}\n",
    "    item_cnt = defaultdict(int)\n",
    "    for user, item_time_list in tqdm(user_item_time_dict.items()):\n",
    "        # 填充与构建相似度矩阵\n",
    "        for i, i_click_time in item_time_list:\n",
    "            item_cnt[i] += 1\n",
    "            i2i_sim.setdefault(i, {})\n",
    "            for j, j_click_time in item_time_list:\n",
    "                if(i == j):\n",
    "                    continue\n",
    "                i2i_sim[i].setdefault(j, 0)\n",
    "                \n",
    "                i2i_sim[i][j] += 1 / math.log(len(item_time_list) + 1)\n",
    "                \n",
    "    i2i_sim_ = i2i_sim.copy()\n",
    "    for i, related_items in i2i_sim.items():\n",
    "        for j, wij in related_items.items():\n",
    "            i2i_sim_[i][j] = wij / math.sqrt(item_cnt[i] * item_cnt[j])\n",
    "    \n",
    "    # 将得到的相似性矩阵保存到本地\n",
    "    pickle.dump(i2i_sim_, open(save_path + 'itemcf_i2i_sim.pkl', 'wb'))\n",
    "    \n",
    "    return i2i_sim_"
   ]
  },
  {
   "cell_type": "code",
   "execution_count": 11,
   "id": "ebe80cbf",
   "metadata": {},
   "outputs": [
    {
     "name": "stderr",
     "output_type": "stream",
     "text": [
      "100%|████████████████████████████████████████████████████████████████████████████████████████████| 235156/235156 [00:06<00:00, 38712.79it/s]\n"
     ]
    }
   ],
   "source": [
    "i2i_sim = cal_itemcf_sim(data)"
   ]
  },
  {
   "cell_type": "code",
   "execution_count": 12,
   "id": "f58873b8",
   "metadata": {},
   "outputs": [],
   "source": [
    "# 基于舞蹈相似度的召回i2i\n",
    "def item_based_recommend(user_id, user_item_time_dict, i2i_sim, sim_item_topk, recall_item_num, topk_items):\n",
    "    \"\"\"\n",
    "        基于物品(舞蹈)协同过滤的召回，参数和返回值如下：\n",
    "        \n",
    "        user_id: 用户id\n",
    "        user_item_time_dict: 字典, 根据点击时间获取用户的点击舞蹈序列 {user1: [(item1, time1), (item2, time2)..]...}\n",
    "        i2i_sim: 字典，视频相似性矩阵\n",
    "        sim_item_topk: 整数， 选择与当前舞蹈最相似的前k个舞蹈视频\n",
    "        recall_item_num: 整数， 最后的召回舞蹈数量\n",
    "        topk_items: 列表，点击次数最多的舞蹈列表，用户召回补全  \n",
    "        \n",
    "        return: 召回的舞蹈列表 {item1:score1, item2: score2...}\n",
    "    \"\"\"\n",
    "    \n",
    "    # 获取用户历史交互的舞蹈\n",
    "    user_past_items = user_item_time_dict[user_id]\n",
    "    user_past_items_ = {user_id for user_id, _ in user_past_items}\n",
    "    \n",
    "    # 遍历相似度矩阵\n",
    "    item_rank = {}\n",
    "    for loc, (i, click_time) in enumerate(user_past_items):\n",
    "        for j, wij in sorted(i2i_sim[i].items(), key=lambda x: x[1], reverse=True)[:sim_item_topk]:\n",
    "            if j in user_past_items_:\n",
    "                continue\n",
    "                \n",
    "            item_rank.setdefault(j, 0)\n",
    "            item_rank[j] +=  wij\n",
    "    \n",
    "    # 没有达到推荐的数量，则用topk热门舞蹈补全\n",
    "    if len(item_rank) < recall_item_num:\n",
    "        for i, item in enumerate(topk_items):\n",
    "            if item in item_rank.items(): # 填充的item应该不在原来的列表中\n",
    "                continue\n",
    "            item_rank[item] = - i - 100\n",
    "            if len(item_rank) == recall_item_num:\n",
    "                break\n",
    "    \n",
    "    item_rank = sorted(item_rank.items(), key=lambda x: x[1], reverse=True)[:recall_item_num]\n",
    "        \n",
    "    return item_rank"
   ]
  },
  {
   "cell_type": "code",
   "execution_count": 13,
   "id": "2e7d0897",
   "metadata": {},
   "outputs": [
    {
     "name": "stderr",
     "output_type": "stream",
     "text": [
      "100%|█████████████████████████████████████████████████████████████████████████████████████████████| 235156/235156 [03:37<00:00, 1079.55it/s]\n"
     ]
    }
   ],
   "source": [
    "# 定义\n",
    "user_recall_items_dict = collections.defaultdict(dict)\n",
    "\n",
    "# 获取 （用户，舞蹈，点击时间）数据字典\n",
    "user_item_time_dict = get_user_item_time_data(data)\n",
    "\n",
    "# 获取舞蹈相似度\n",
    "i2i_sim = pickle.load(open(save_path + 'itemcf_i2i_sim.pkl', 'rb'))\n",
    "\n",
    "# 相似舞蹈的数量\n",
    "sim_item_topk = 30\n",
    "\n",
    "# 召回舞蹈数量\n",
    "recall_item_num = 20\n",
    "\n",
    "# 用户热度补全\n",
    "topk_items = get_topk_item(data, k=50)\n",
    "\n",
    "for user in tqdm(data['user_id'].unique()):\n",
    "    user_recall_items_dict[user] = item_based_recommend(user, user_item_time_dict, i2i_sim, \n",
    "                                                        sim_item_topk, recall_item_num, topk_items)"
   ]
  },
  {
   "cell_type": "code",
   "execution_count": 14,
   "id": "e82080a6",
   "metadata": {},
   "outputs": [
    {
     "name": "stderr",
     "output_type": "stream",
     "text": [
      "100%|████████████████████████████████████████████████████████████████████████████████████████████| 235156/235156 [00:09<00:00, 25674.65it/s]\n"
     ]
    }
   ],
   "source": [
    "# 将字典的形式转换成df\n",
    "user_item_score_list = []\n",
    "\n",
    "for user, items in tqdm(user_recall_items_dict.items()):\n",
    "    for item, score in items:\n",
    "        user_item_score_list.append([user, item, score])\n",
    "\n",
    "recall_df = pd.DataFrame(user_item_score_list, columns=['user_id', 'click_dance_id', 'pred_score'])"
   ]
  },
  {
   "cell_type": "code",
   "execution_count": 15,
   "id": "e108ca7c",
   "metadata": {},
   "outputs": [],
   "source": [
    "# 生成提交文件\n",
    "def submit(recall_df, topk=20, model_name=None):\n",
    "    recall_df = recall_df.sort_values(by=['user_id', 'pred_score'])\n",
    "    recall_df['rank'] = recall_df.groupby(['user_id'])['pred_score'].rank(ascending=False, method='first')\n",
    "    \n",
    "    # 判断是不是每个用户都有5个舞蹈视频及以上\n",
    "    tmp = recall_df.groupby('user_id').apply(lambda x: x['rank'].max())\n",
    "    assert tmp.min() >= topk\n",
    "    \n",
    "    del recall_df['pred_score']\n",
    "    submit = recall_df[recall_df['rank'] <= topk].set_index(['user_id', 'rank']).unstack(-1).reset_index()\n",
    "    \n",
    "    submit.columns = [int(col) if isinstance(col, int) else col for col in submit.columns.droplevel(0)]\n",
    "    # 按照提交格式定义列名\n",
    "    submit = submit.rename(columns={'': 'user_id', 1: 'dance_1', 2: 'dance_2',3: 'dance_3', 4: 'dance_4', 5: 'dance_5'\n",
    "                                    , 6: 'dance_6',7: 'dance_7', 8: 'dance_8', 9: 'dance_9', 10: 'dance_10'\n",
    "                                   , 11: 'dance_11', 12: 'dance_12', 13: 'dance_13', 14: 'dance_14', 15: 'dance_15'\n",
    "                                   , 16: 'dance_16', 17: 'dance_17', 18: 'dance_18', 19: 'dance_19', 20: 'dance_20'})\n",
    "                                   \n",
    "    \n",
    "    save_name = save_path + model_name + '_' + datetime.today().strftime('%m-%d') + '.csv'\n",
    "    submit.to_csv(save_name, index=False, header=True)"
   ]
  },
  {
   "cell_type": "code",
   "execution_count": 16,
   "id": "cea83752",
   "metadata": {},
   "outputs": [],
   "source": [
    "# 获取测试集\n",
    "tst_click = pd.read_csv('action.csv')\n",
    "tst_users = tst_click['user_id'].unique()\n",
    "\n",
    "# 从所有的召回数据中将测试集中的用户选出来\n",
    "tst_recall = recall_df[recall_df['user_id'].isin(tst_users)]\n",
    "\n"
   ]
  },
  {
   "cell_type": "code",
   "execution_count": 17,
   "id": "783c184c",
   "metadata": {},
   "outputs": [
    {
     "data": {
      "text/html": [
       "<div>\n",
       "<style scoped>\n",
       "    .dataframe tbody tr th:only-of-type {\n",
       "        vertical-align: middle;\n",
       "    }\n",
       "\n",
       "    .dataframe tbody tr th {\n",
       "        vertical-align: top;\n",
       "    }\n",
       "\n",
       "    .dataframe thead th {\n",
       "        text-align: right;\n",
       "    }\n",
       "</style>\n",
       "<table border=\"1\" class=\"dataframe\">\n",
       "  <thead>\n",
       "    <tr style=\"text-align: right;\">\n",
       "      <th></th>\n",
       "      <th>user_id</th>\n",
       "      <th>click_dance_id</th>\n",
       "      <th>pred_score</th>\n",
       "    </tr>\n",
       "  </thead>\n",
       "  <tbody>\n",
       "    <tr>\n",
       "      <th>0</th>\n",
       "      <td>24696418</td>\n",
       "      <td>377803425</td>\n",
       "      <td>0.089549</td>\n",
       "    </tr>\n",
       "    <tr>\n",
       "      <th>1</th>\n",
       "      <td>24696418</td>\n",
       "      <td>890301542</td>\n",
       "      <td>0.081032</td>\n",
       "    </tr>\n",
       "    <tr>\n",
       "      <th>2</th>\n",
       "      <td>24696418</td>\n",
       "      <td>505595973</td>\n",
       "      <td>0.071809</td>\n",
       "    </tr>\n",
       "    <tr>\n",
       "      <th>3</th>\n",
       "      <td>24696418</td>\n",
       "      <td>933653977</td>\n",
       "      <td>0.069412</td>\n",
       "    </tr>\n",
       "    <tr>\n",
       "      <th>4</th>\n",
       "      <td>24696418</td>\n",
       "      <td>377119806</td>\n",
       "      <td>0.064263</td>\n",
       "    </tr>\n",
       "    <tr>\n",
       "      <th>...</th>\n",
       "      <td>...</td>\n",
       "      <td>...</td>\n",
       "      <td>...</td>\n",
       "    </tr>\n",
       "    <tr>\n",
       "      <th>4703115</th>\n",
       "      <td>603294845</td>\n",
       "      <td>976337342</td>\n",
       "      <td>0.021556</td>\n",
       "    </tr>\n",
       "    <tr>\n",
       "      <th>4703116</th>\n",
       "      <td>603294845</td>\n",
       "      <td>763088269</td>\n",
       "      <td>0.020440</td>\n",
       "    </tr>\n",
       "    <tr>\n",
       "      <th>4703117</th>\n",
       "      <td>603294845</td>\n",
       "      <td>589779739</td>\n",
       "      <td>0.020264</td>\n",
       "    </tr>\n",
       "    <tr>\n",
       "      <th>4703118</th>\n",
       "      <td>603294845</td>\n",
       "      <td>550085132</td>\n",
       "      <td>0.019676</td>\n",
       "    </tr>\n",
       "    <tr>\n",
       "      <th>4703119</th>\n",
       "      <td>603294845</td>\n",
       "      <td>380226407</td>\n",
       "      <td>0.019676</td>\n",
       "    </tr>\n",
       "  </tbody>\n",
       "</table>\n",
       "<p>4703120 rows × 3 columns</p>\n",
       "</div>"
      ],
      "text/plain": [
       "           user_id  click_dance_id  pred_score\n",
       "0         24696418       377803425    0.089549\n",
       "1         24696418       890301542    0.081032\n",
       "2         24696418       505595973    0.071809\n",
       "3         24696418       933653977    0.069412\n",
       "4         24696418       377119806    0.064263\n",
       "...            ...             ...         ...\n",
       "4703115  603294845       976337342    0.021556\n",
       "4703116  603294845       763088269    0.020440\n",
       "4703117  603294845       589779739    0.020264\n",
       "4703118  603294845       550085132    0.019676\n",
       "4703119  603294845       380226407    0.019676\n",
       "\n",
       "[4703120 rows x 3 columns]"
      ]
     },
     "execution_count": 17,
     "metadata": {},
     "output_type": "execute_result"
    }
   ],
   "source": [
    "tst_recall"
   ]
  },
  {
   "cell_type": "code",
   "execution_count": null,
   "id": "5f351b80",
   "metadata": {},
   "outputs": [],
   "source": [
    "# 生成提交文件\n",
    "submit(tst_recall, topk=20, model_name='itemcf_baseline')"
   ]
  }
 ],
 "metadata": {
  "kernelspec": {
   "display_name": "Python 3 (ipykernel)",
   "language": "python",
   "name": "python3"
  },
  "language_info": {
   "codemirror_mode": {
    "name": "ipython",
    "version": 3
   },
   "file_extension": ".py",
   "mimetype": "text/x-python",
   "name": "python",
   "nbconvert_exporter": "python",
   "pygments_lexer": "ipython3",
   "version": "3.8.12"
  }
 },
 "nbformat": 4,
 "nbformat_minor": 5
}
